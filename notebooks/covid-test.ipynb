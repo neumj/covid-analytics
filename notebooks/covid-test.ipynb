{
 "cells": [
  {
   "cell_type": "code",
   "execution_count": 12,
   "metadata": {},
   "outputs": [],
   "source": [
    "import os\n",
    "from covidanalytics import html as ch\n",
    "from covidanalytics import etl as ce\n",
    "from covidanalytics import analytics as ca\n",
    "import numpy as np"
   ]
  },
  {
   "cell_type": "code",
   "execution_count": null,
   "metadata": {},
   "outputs": [],
   "source": [
    "import importlib\n",
    "importlib.reload(ch)"
   ]
  },
  {
   "cell_type": "code",
   "execution_count": 2,
   "metadata": {},
   "outputs": [],
   "source": [
    "reports_path=os.path.join(os.environ['HOME'],'Documents/code/COVID-19/csse_covid_19_data/csse_covid_19_daily_reports/')\n",
    "html_path=os.path.join(os.environ['HOME'],'Documents/code/covid-static/pages/')"
   ]
  },
  {
   "cell_type": "code",
   "execution_count": 5,
   "metadata": {},
   "outputs": [],
   "source": [
    "states = ['California','South Carolina',\n",
    " 'Louisiana',\n",
    " 'Virginia',\n",
    " 'Idaho',\n",
    " 'Iowa',\n",
    " 'Kentucky',\n",
    " 'Missouri',\n",
    " 'Oklahoma',\n",
    " 'Colorado',\n",
    " 'Illinois',\n",
    " 'Indiana',\n",
    " 'Mississippi',\n",
    " 'Nebraska',\n",
    " 'Ohio',\n",
    " 'Pennsylvania',\n",
    " 'Washington',\n",
    " 'Wisconsin',\n",
    " 'Vermont',\n",
    " 'Florida',\n",
    " 'North Carolina',\n",
    " 'New York',\n",
    " 'Wyoming',\n",
    " 'Michigan',\n",
    " 'Maryland',\n",
    " 'Alaska',\n",
    " 'Kansas',\n",
    " 'Tennessee',\n",
    " 'Texas',\n",
    " 'Maine',\n",
    " 'Minnesota',\n",
    " 'Arizona',\n",
    " 'Georgia',\n",
    " 'Arkansas',\n",
    " 'New Jersey',\n",
    " 'South Dakota',\n",
    " 'Alabama',\n",
    " 'West Virginia',\n",
    " 'North Dakota',\n",
    " 'Massachusetts',\n",
    " 'Montana',\n",
    " 'New Hampshire',\n",
    " 'Oregon',\n",
    " 'New Mexico',\n",
    " 'Utah',\n",
    " 'Rhode Island',\n",
    " 'Nevada',\n",
    " 'District of Columbia',\n",
    " 'Connecticut',\n",
    " 'Hawaii',\n",
    " 'Delaware']"
   ]
  },
  {
   "cell_type": "code",
   "execution_count": 6,
   "metadata": {},
   "outputs": [],
   "source": [
    "param_dict = {'reports_path': reports_path,\n",
    "          'html': {'dir': html_path + 'california.html',\n",
    "                   'img': 'california.png',\n",
    "                   'img_shape': 'tall'\n",
    "                  },\n",
    "          'country': 'US',\n",
    "          'start_date': '01/22/2020',\n",
    "          'end_date': '04/09/2020',\n",
    "          'title': 'California - COVID-19'\n",
    "         }"
   ]
  },
  {
   "cell_type": "code",
   "execution_count": 20,
   "metadata": {},
   "outputs": [
    {
     "name": "stdout",
     "output_type": "stream",
     "text": [
      "California\n",
      "(1,)\n",
      "Louisiana\n",
      "(3,)\n",
      "Idaho\n",
      "(5,)\n",
      "Oklahoma\n",
      "(4,)\n",
      "Colorado\n",
      "(3,)\n",
      "Illinois\n",
      "(2,)\n",
      "Indiana\n",
      "(1,)\n",
      "Ohio\n",
      "(3,)\n",
      "Washington\n",
      "(2,)\n",
      "Wisconsin\n",
      "(4,)\n",
      "Vermont\n",
      "(2,)\n",
      "Florida\n",
      "(4,)\n",
      "North Carolina\n",
      "(2,)\n",
      "Wyoming\n",
      "(4,)\n",
      "Michigan\n",
      "(3,)\n",
      "Alaska\n",
      "(2,)\n",
      "Maine\n",
      "(4,)\n",
      "Arizona\n",
      "(3,)\n",
      "New Jersey\n",
      "(3,)\n",
      "New Hampshire\n",
      "(2,)\n",
      "New Mexico\n",
      "(2,)\n",
      "Utah\n",
      "(3,)\n",
      "Hawaii\n",
      "(4,)\n"
     ]
    }
   ],
   "source": [
    "filenames = ce.dates_to_filenames(param_dict['start_date'], param_dict['end_date'])\n",
    "for s in states:\n",
    "    recs = []\n",
    "    for f in filenames:\n",
    "        try:\n",
    "            f_path = param_dict['reports_path'] + f\n",
    "            covid = ce.covid_csv_to_df(f_path)\n",
    "            daily = ce.covid_province_state(covid, s)\n",
    "            recs.append(daily)\n",
    "        except:\n",
    "            print(f)\n",
    "    covid_ts = ca.covid_dict_to_timeseries_df(recs, param_dict['start_date'], param_dict['end_date'])\n",
    "    delta = covid_ts['7day_fit_m'][-7::].values - covid_ts['7day_fit_m'][-8:-1].values\n",
    "    if delta[-1] <= 0:\n",
    "        print(s)\n",
    "        idx = np.where(delta<=0)\n",
    "        print(idx[0].shape)\n",
    "    "
   ]
  },
  {
   "cell_type": "code",
   "execution_count": 8,
   "metadata": {},
   "outputs": [
    {
     "data": {
      "text/plain": [
       "'South Carolina'"
      ]
     },
     "execution_count": 8,
     "metadata": {},
     "output_type": "execute_result"
    }
   ],
   "source": [
    "s"
   ]
  },
  {
   "cell_type": "code",
   "execution_count": 17,
   "metadata": {},
   "outputs": [
    {
     "data": {
      "text/plain": [
       "array([ 1.75      , 14.10714286, 11.71428571, 12.32142857, 17.17857143,\n",
       "       22.57142857,  9.39285714])"
      ]
     },
     "execution_count": 17,
     "metadata": {},
     "output_type": "execute_result"
    }
   ],
   "source": [
    "delta"
   ]
  },
  {
   "cell_type": "code",
   "execution_count": 18,
   "metadata": {},
   "outputs": [
    {
     "data": {
      "text/plain": [
       "(array([0, 1, 2, 3, 4, 5, 6]),)"
      ]
     },
     "execution_count": 18,
     "metadata": {},
     "output_type": "execute_result"
    }
   ],
   "source": [
    "np.where(delta>=0)"
   ]
  },
  {
   "cell_type": "code",
   "execution_count": null,
   "metadata": {},
   "outputs": [],
   "source": []
  }
 ],
 "metadata": {
  "kernelspec": {
   "display_name": "Python 3",
   "language": "python",
   "name": "python3"
  },
  "language_info": {
   "codemirror_mode": {
    "name": "ipython",
    "version": 3
   },
   "file_extension": ".py",
   "mimetype": "text/x-python",
   "name": "python",
   "nbconvert_exporter": "python",
   "pygments_lexer": "ipython3",
   "version": "3.8.2"
  }
 },
 "nbformat": 4,
 "nbformat_minor": 4
}
