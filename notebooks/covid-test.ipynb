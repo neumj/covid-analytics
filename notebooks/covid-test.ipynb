{
 "cells": [
  {
   "cell_type": "code",
   "execution_count": 6,
   "metadata": {},
   "outputs": [],
   "source": [
    "import os\n",
    "from covidanalytics import etl as ce\n",
    "from covidanalytics import analytics as ca\n",
    "from covidanalytics import plots as cp"
   ]
  },
  {
   "cell_type": "code",
   "execution_count": 7,
   "metadata": {},
   "outputs": [],
   "source": [
    "reports_path=os.path.join(os.environ['HOME'],'Documents/code/COVID-19/csse_covid_19_data/csse_covid_19_daily_reports/')\n",
    "html_path=os.path.join(os.environ['HOME'],'Documents/code/covid-static/pages/')"
   ]
  },
  {
   "cell_type": "code",
   "execution_count": 8,
   "metadata": {},
   "outputs": [],
   "source": [
    "param_dict = {'reports_path': reports_path,\n",
    "          'html': {'dir': html_path + 'usa.html',\n",
    "                   'img': 'usa.png',\n",
    "                   'img_shape': 'wide'\n",
    "                  },\n",
    "          'country': 'US',\n",
    "          'start_date': '01/22/2020',\n",
    "          'end_date': '04/01/2020',\n",
    "          'title': 'USA - COVID-19'\n",
    "         }"
   ]
  },
  {
   "cell_type": "code",
   "execution_count": 9,
   "metadata": {},
   "outputs": [],
   "source": [
    "filenames = ce.dates_to_filenames(param_dict['start_date'], param_dict['end_date'])"
   ]
  },
  {
   "cell_type": "code",
   "execution_count": 10,
   "metadata": {},
   "outputs": [],
   "source": [
    "recs = []\n",
    "for f in filenames:\n",
    "    try:\n",
    "        f_path = param_dict['reports_path'] + f\n",
    "        covid = ce.covid_csv_to_df(f_path)\n",
    "        if 'state' in param_dict.keys():\n",
    "            daily = ce.covid_province_state(covid, param_dict['state'])\n",
    "        if 'country' in param_dict.keys():\n",
    "            daily = ce.covid_country_region(covid, param_dict['country'])\n",
    "        if 'query' in param_dict.keys():\n",
    "            daily = ce.covid_query(covid, param_dict['query'])\n",
    "        recs.append(daily)\n",
    "    except:\n",
    "        print(f)\n"
   ]
  },
  {
   "cell_type": "code",
   "execution_count": 11,
   "metadata": {},
   "outputs": [],
   "source": [
    "covid_ts = ca.covid_dict_to_timeseries_df(recs, param_dict['start_date'], param_dict['end_date'])\n"
   ]
  },
  {
   "cell_type": "code",
   "execution_count": 12,
   "metadata": {},
   "outputs": [
    {
     "data": {
      "text/html": [
       "<div>\n",
       "<style scoped>\n",
       "    .dataframe tbody tr th:only-of-type {\n",
       "        vertical-align: middle;\n",
       "    }\n",
       "\n",
       "    .dataframe tbody tr th {\n",
       "        vertical-align: top;\n",
       "    }\n",
       "\n",
       "    .dataframe thead th {\n",
       "        text-align: right;\n",
       "    }\n",
       "</style>\n",
       "<table border=\"1\" class=\"dataframe\">\n",
       "  <thead>\n",
       "    <tr style=\"text-align: right;\">\n",
       "      <th></th>\n",
       "      <th>country_region</th>\n",
       "      <th>confirmed</th>\n",
       "      <th>deaths</th>\n",
       "      <th>active</th>\n",
       "      <th>date</th>\n",
       "      <th>total_change</th>\n",
       "      <th>percent_change</th>\n",
       "    </tr>\n",
       "  </thead>\n",
       "  <tbody>\n",
       "    <tr>\n",
       "      <th>2020-01-22</th>\n",
       "      <td>US</td>\n",
       "      <td>1.0</td>\n",
       "      <td>0.0</td>\n",
       "      <td>1.0</td>\n",
       "      <td>1/22/2020 17:00</td>\n",
       "      <td>0.0</td>\n",
       "      <td>0.000000</td>\n",
       "    </tr>\n",
       "    <tr>\n",
       "      <th>2020-01-23</th>\n",
       "      <td>US</td>\n",
       "      <td>1.0</td>\n",
       "      <td>0.0</td>\n",
       "      <td>1.0</td>\n",
       "      <td>1/23/20 17:00</td>\n",
       "      <td>0.0</td>\n",
       "      <td>0.000000</td>\n",
       "    </tr>\n",
       "    <tr>\n",
       "      <th>2020-01-24</th>\n",
       "      <td>US</td>\n",
       "      <td>2.0</td>\n",
       "      <td>0.0</td>\n",
       "      <td>2.0</td>\n",
       "      <td>1/24/20 17:00</td>\n",
       "      <td>1.0</td>\n",
       "      <td>100.000000</td>\n",
       "    </tr>\n",
       "    <tr>\n",
       "      <th>2020-01-25</th>\n",
       "      <td>US</td>\n",
       "      <td>2.0</td>\n",
       "      <td>0.0</td>\n",
       "      <td>2.0</td>\n",
       "      <td>1/25/20 17:00</td>\n",
       "      <td>0.0</td>\n",
       "      <td>0.000000</td>\n",
       "    </tr>\n",
       "    <tr>\n",
       "      <th>2020-01-26</th>\n",
       "      <td>US</td>\n",
       "      <td>5.0</td>\n",
       "      <td>0.0</td>\n",
       "      <td>5.0</td>\n",
       "      <td>1/26/20 16:00</td>\n",
       "      <td>3.0</td>\n",
       "      <td>150.000000</td>\n",
       "    </tr>\n",
       "    <tr>\n",
       "      <th>...</th>\n",
       "      <td>...</td>\n",
       "      <td>...</td>\n",
       "      <td>...</td>\n",
       "      <td>...</td>\n",
       "      <td>...</td>\n",
       "      <td>...</td>\n",
       "      <td>...</td>\n",
       "    </tr>\n",
       "    <tr>\n",
       "      <th>2020-03-28</th>\n",
       "      <td>US</td>\n",
       "      <td>121478.0</td>\n",
       "      <td>2026.0</td>\n",
       "      <td>118380.0</td>\n",
       "      <td>2020-03-28</td>\n",
       "      <td>19821.0</td>\n",
       "      <td>19.497919</td>\n",
       "    </tr>\n",
       "    <tr>\n",
       "      <th>2020-03-29</th>\n",
       "      <td>US</td>\n",
       "      <td>140886.0</td>\n",
       "      <td>2467.0</td>\n",
       "      <td>135754.0</td>\n",
       "      <td>2020-03-29</td>\n",
       "      <td>19408.0</td>\n",
       "      <td>15.976555</td>\n",
       "    </tr>\n",
       "    <tr>\n",
       "      <th>2020-03-30</th>\n",
       "      <td>US</td>\n",
       "      <td>161807.0</td>\n",
       "      <td>2978.0</td>\n",
       "      <td>153185.0</td>\n",
       "      <td>2020-03-30</td>\n",
       "      <td>20921.0</td>\n",
       "      <td>14.849595</td>\n",
       "    </tr>\n",
       "    <tr>\n",
       "      <th>2020-03-31</th>\n",
       "      <td>US</td>\n",
       "      <td>188172.0</td>\n",
       "      <td>3873.0</td>\n",
       "      <td>177275.0</td>\n",
       "      <td>2020-03-31</td>\n",
       "      <td>26365.0</td>\n",
       "      <td>16.294103</td>\n",
       "    </tr>\n",
       "    <tr>\n",
       "      <th>2020-04-01</th>\n",
       "      <td>US</td>\n",
       "      <td>215417.0</td>\n",
       "      <td>5116.0</td>\n",
       "      <td>201735.0</td>\n",
       "      <td>2020-04-02</td>\n",
       "      <td>27245.0</td>\n",
       "      <td>14.478775</td>\n",
       "    </tr>\n",
       "  </tbody>\n",
       "</table>\n",
       "<p>71 rows × 7 columns</p>\n",
       "</div>"
      ],
      "text/plain": [
       "           country_region  confirmed  deaths    active             date  \\\n",
       "2020-01-22             US        1.0     0.0       1.0  1/22/2020 17:00   \n",
       "2020-01-23             US        1.0     0.0       1.0    1/23/20 17:00   \n",
       "2020-01-24             US        2.0     0.0       2.0    1/24/20 17:00   \n",
       "2020-01-25             US        2.0     0.0       2.0    1/25/20 17:00   \n",
       "2020-01-26             US        5.0     0.0       5.0    1/26/20 16:00   \n",
       "...                   ...        ...     ...       ...              ...   \n",
       "2020-03-28             US   121478.0  2026.0  118380.0       2020-03-28   \n",
       "2020-03-29             US   140886.0  2467.0  135754.0       2020-03-29   \n",
       "2020-03-30             US   161807.0  2978.0  153185.0       2020-03-30   \n",
       "2020-03-31             US   188172.0  3873.0  177275.0       2020-03-31   \n",
       "2020-04-01             US   215417.0  5116.0  201735.0       2020-04-02   \n",
       "\n",
       "            total_change  percent_change  \n",
       "2020-01-22           0.0        0.000000  \n",
       "2020-01-23           0.0        0.000000  \n",
       "2020-01-24           1.0      100.000000  \n",
       "2020-01-25           0.0        0.000000  \n",
       "2020-01-26           3.0      150.000000  \n",
       "...                  ...             ...  \n",
       "2020-03-28       19821.0       19.497919  \n",
       "2020-03-29       19408.0       15.976555  \n",
       "2020-03-30       20921.0       14.849595  \n",
       "2020-03-31       26365.0       16.294103  \n",
       "2020-04-01       27245.0       14.478775  \n",
       "\n",
       "[71 rows x 7 columns]"
      ]
     },
     "execution_count": 12,
     "metadata": {},
     "output_type": "execute_result"
    }
   ],
   "source": [
    "covid_ts"
   ]
  },
  {
   "cell_type": "code",
   "execution_count": 2,
   "metadata": {},
   "outputs": [],
   "source": [
    "import sklearn\n",
    "import sklearn.linear_model as lm\n",
    "import numpy as np"
   ]
  },
  {
   "cell_type": "code",
   "execution_count": 24,
   "metadata": {},
   "outputs": [],
   "source": [
    "x=np.arange(1,8)\n",
    "x=x.reshape(-1,1)"
   ]
  },
  {
   "cell_type": "code",
   "execution_count": 25,
   "metadata": {},
   "outputs": [
    {
     "data": {
      "text/plain": [
       "array([ 65778.,  83836., 101657., 121478., 140886., 161807., 188172.])"
      ]
     },
     "execution_count": 25,
     "metadata": {},
     "output_type": "execute_result"
    }
   ],
   "source": [
    "y=covid_ts['confirmed'][-8:-1].values\n",
    "y"
   ]
  },
  {
   "cell_type": "code",
   "execution_count": 36,
   "metadata": {},
   "outputs": [],
   "source": [
    "lin_fit=lm.LinearRegression(fit_intercept=True).fit(x, y)"
   ]
  },
  {
   "cell_type": "code",
   "execution_count": 32,
   "metadata": {},
   "outputs": [
    {
     "data": {
      "text/plain": [
       "28691.492857142857"
      ]
     },
     "execution_count": 32,
     "metadata": {},
     "output_type": "execute_result"
    }
   ],
   "source": [
    "lin_fit.coef_[0]"
   ]
  },
  {
   "cell_type": "code",
   "execution_count": 39,
   "metadata": {},
   "outputs": [
    {
     "data": {
      "text/plain": [
       "43037.28571428574"
      ]
     },
     "execution_count": 39,
     "metadata": {},
     "output_type": "execute_result"
    }
   ],
   "source": [
    "lin_fit.intercept_"
   ]
  },
  {
   "cell_type": "code",
   "execution_count": 40,
   "metadata": {},
   "outputs": [
    {
     "data": {
      "text/plain": [
       "63121.32142857145"
      ]
     },
     "execution_count": 40,
     "metadata": {},
     "output_type": "execute_result"
    }
   ],
   "source": [
    "lin_fit.coef_[0] + lin_fit.intercept_"
   ]
  },
  {
   "cell_type": "code",
   "execution_count": 41,
   "metadata": {},
   "outputs": [
    {
     "data": {
      "text/plain": [
       "183625.53571428568"
      ]
     },
     "execution_count": 41,
     "metadata": {},
     "output_type": "execute_result"
    }
   ],
   "source": [
    "(lin_fit.coef_[0] * 7) + lin_fit.intercept_"
   ]
  },
  {
   "cell_type": "code",
   "execution_count": null,
   "metadata": {},
   "outputs": [],
   "source": []
  }
 ],
 "metadata": {
  "kernelspec": {
   "display_name": "Python 3",
   "language": "python",
   "name": "python3"
  },
  "language_info": {
   "codemirror_mode": {
    "name": "ipython",
    "version": 3
   },
   "file_extension": ".py",
   "mimetype": "text/x-python",
   "name": "python",
   "nbconvert_exporter": "python",
   "pygments_lexer": "ipython3",
   "version": "3.8.2"
  }
 },
 "nbformat": 4,
 "nbformat_minor": 4
}
