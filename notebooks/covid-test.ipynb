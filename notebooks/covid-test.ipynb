{
 "cells": [
  {
   "cell_type": "code",
   "execution_count": null,
   "metadata": {},
   "outputs": [],
   "source": [
    "import os\n",
    "from covidanalytics import etl as ce\n",
    "from covidanalytics import analytics as ca\n",
    "from covidanalytics import plots as cp"
   ]
  },
  {
   "cell_type": "code",
   "execution_count": null,
   "metadata": {},
   "outputs": [],
   "source": [
    "import importlib\n",
    "importlib.reload(cp)"
   ]
  },
  {
   "cell_type": "code",
   "execution_count": null,
   "metadata": {},
   "outputs": [],
   "source": [
    "reports_path=os.path.join(os.environ['HOME'],'Documents/code/COVID-19/csse_covid_19_data/csse_covid_19_daily_reports/')\n",
    "html_path=os.path.join(os.environ['HOME'],'Documents/code/covid-static/pages/')"
   ]
  },
  {
   "cell_type": "code",
   "execution_count": null,
   "metadata": {},
   "outputs": [],
   "source": [
    "param_dict = {'reports_path': reports_path,\n",
    "          'html': {'dir': html_path + 'usa.html',\n",
    "                   'img': 'usa.png',\n",
    "                   'img_shape': 'wide'\n",
    "                  },\n",
    "          'state': 'California',\n",
    "          'start_date': '01/22/2020',\n",
    "          'end_date': '04/01/2020',\n",
    "          'title': 'California - COVID-19'\n",
    "         }"
   ]
  },
  {
   "cell_type": "code",
   "execution_count": null,
   "metadata": {},
   "outputs": [],
   "source": [
    "param_dict = {'reports_path': reports_path,\n",
    "          'html': {'dir': html_path + 'bay_area.html',\n",
    "                   'img': 'bay_area.png',\n",
    "                   'img_shape': 'square'\n",
    "                  },\n",
    "          'query': 'Province_State==\"California\" & Admin2 in [\"Alameda\",\"Santa Clara\",\"Santa Cruz\",\"San Francisco\",\"San Mateo\",\"Marin\",\"Contra Costa\"]',\n",
    "          'start_date': '03/22/2020',\n",
    "          'end_date': '04/01/2020',\n",
    "          'title': 'Bay Area - COVID-19'\n",
    "         }"
   ]
  },
  {
   "cell_type": "code",
   "execution_count": null,
   "metadata": {},
   "outputs": [],
   "source": [
    "filenames = ce.dates_to_filenames(param_dict['start_date'], param_dict['end_date'])"
   ]
  },
  {
   "cell_type": "code",
   "execution_count": null,
   "metadata": {},
   "outputs": [],
   "source": [
    "recs = []\n",
    "for f in filenames:\n",
    "    try:\n",
    "        f_path = param_dict['reports_path'] + f\n",
    "        covid = ce.covid_csv_to_df(f_path)\n",
    "        if 'state' in param_dict.keys():\n",
    "            daily = ce.covid_province_state(covid, param_dict['state'])\n",
    "        if 'country' in param_dict.keys():\n",
    "            daily = ce.covid_country_region(covid, param_dict['country'])\n",
    "        if 'query' in param_dict.keys():\n",
    "            daily = ce.covid_query(covid, param_dict['query'])\n",
    "        recs.append(daily)\n",
    "    except:\n",
    "        print(f)\n"
   ]
  },
  {
   "cell_type": "code",
   "execution_count": null,
   "metadata": {},
   "outputs": [],
   "source": [
    "covid_ts = ca.covid_dict_to_timeseries_df(recs, param_dict['start_date'], param_dict['end_date'])"
   ]
  },
  {
   "cell_type": "code",
   "execution_count": null,
   "metadata": {},
   "outputs": [],
   "source": [
    "covid_ts.tail(10)"
   ]
  },
  {
   "cell_type": "code",
   "execution_count": null,
   "metadata": {},
   "outputs": [],
   "source": [
    "plt=cp.plot_total_change(covid_ts)"
   ]
  }
 ],
 "metadata": {
  "kernelspec": {
   "display_name": "Python 3",
   "language": "python",
   "name": "python3"
  },
  "language_info": {
   "codemirror_mode": {
    "name": "ipython",
    "version": 3
   },
   "file_extension": ".py",
   "mimetype": "text/x-python",
   "name": "python",
   "nbconvert_exporter": "python",
   "pygments_lexer": "ipython3",
   "version": "3.8.2"
  }
 },
 "nbformat": 4,
 "nbformat_minor": 4
}
