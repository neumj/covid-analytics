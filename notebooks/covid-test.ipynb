{
 "cells": [
  {
   "cell_type": "code",
   "execution_count": 1,
   "metadata": {},
   "outputs": [],
   "source": [
    "import os\n",
    "from covidanalytics import etl as ce\n",
    "from covidanalytics import analytics as ca\n",
    "from covidanalytics import plots as cp"
   ]
  },
  {
   "cell_type": "code",
   "execution_count": 2,
   "metadata": {},
   "outputs": [],
   "source": [
    "reports_path=os.path.join(os.environ['HOME'],'Documents/code/COVID-19/csse_covid_19_data/csse_covid_19_daily_reports/')\n",
    "html_path=os.path.join(os.environ['HOME'],'Documents/code/covid-static/pages/')"
   ]
  },
  {
   "cell_type": "code",
   "execution_count": 3,
   "metadata": {},
   "outputs": [],
   "source": [
    "param_dict = {'reports_path': reports_path,\n",
    "          'html': {'dir': html_path + 'bay_area.html',\n",
    "                   'img': 'bay_area.png',\n",
    "                   'img_shape': 'square'\n",
    "                  },\n",
    "          'query': 'Province_State==\"California\" & Admin2 in [\"Alameda\",\"Santa Clara\",\"Santa Cruz\",\"San Francisco\",\"San Mateo\",\"Marin\",\"Contra Costa\"]',\n",
    "          'start_date': '03/22/2020',\n",
    "          'end_date': '03/30/2020',\n",
    "          'title': 'Bay Area - COVID-19'\n",
    "         }"
   ]
  },
  {
   "cell_type": "code",
   "execution_count": 5,
   "metadata": {},
   "outputs": [],
   "source": [
    "filenames = ce.dates_to_filenames(param_dict['start_date'], param_dict['end_date'])"
   ]
  },
  {
   "cell_type": "code",
   "execution_count": 16,
   "metadata": {},
   "outputs": [],
   "source": [
    "recs = []\n",
    "for f in filenames:\n",
    "    try:\n",
    "        f_path = param_dict['reports_path'] + f\n",
    "        covid = ce.covid_csv_to_df(f_path)\n",
    "        if 'state' in param_dict.keys():\n",
    "            daily = ce.covid_province_state(covid, param_dict['state'])\n",
    "        if 'country' in param_dict.keys():\n",
    "            daily = ce.covid_country_region(covid, param_dict['country'])\n",
    "        if 'query' in param_dict.keys():\n",
    "            daily = ce.covid_query(covid, param_dict['query'])\n",
    "        recs.append(daily)\n",
    "    except:\n",
    "        print(f)\n"
   ]
  },
  {
   "cell_type": "code",
   "execution_count": 7,
   "metadata": {},
   "outputs": [
    {
     "data": {
      "text/plain": [
       "'/Users/michaeln/Documents/code/COVID-19/csse_covid_19_data/csse_covid_19_daily_reports/03-30-2020.csv'"
      ]
     },
     "execution_count": 7,
     "metadata": {},
     "output_type": "execute_result"
    }
   ],
   "source": [
    "f_path"
   ]
  },
  {
   "cell_type": "code",
   "execution_count": 8,
   "metadata": {},
   "outputs": [
    {
     "data": {
      "text/html": [
       "<div>\n",
       "<style scoped>\n",
       "    .dataframe tbody tr th:only-of-type {\n",
       "        vertical-align: middle;\n",
       "    }\n",
       "\n",
       "    .dataframe tbody tr th {\n",
       "        vertical-align: top;\n",
       "    }\n",
       "\n",
       "    .dataframe thead th {\n",
       "        text-align: right;\n",
       "    }\n",
       "</style>\n",
       "<table border=\"1\" class=\"dataframe\">\n",
       "  <thead>\n",
       "    <tr style=\"text-align: right;\">\n",
       "      <th></th>\n",
       "      <th>FIPS</th>\n",
       "      <th>Admin2</th>\n",
       "      <th>Province_State</th>\n",
       "      <th>Country_Region</th>\n",
       "      <th>Last_Update</th>\n",
       "      <th>Lat</th>\n",
       "      <th>Long_</th>\n",
       "      <th>Confirmed</th>\n",
       "      <th>Deaths</th>\n",
       "      <th>Recovered</th>\n",
       "      <th>Active</th>\n",
       "      <th>Combined_Key</th>\n",
       "    </tr>\n",
       "  </thead>\n",
       "  <tbody>\n",
       "    <tr>\n",
       "      <th>0</th>\n",
       "      <td>45001</td>\n",
       "      <td>Abbeville</td>\n",
       "      <td>South Carolina</td>\n",
       "      <td>US</td>\n",
       "      <td>2020-03-30 22:52:45</td>\n",
       "      <td>34.223334</td>\n",
       "      <td>-82.461707</td>\n",
       "      <td>3</td>\n",
       "      <td>0</td>\n",
       "      <td>0</td>\n",
       "      <td>0</td>\n",
       "      <td>Abbeville, South Carolina, US</td>\n",
       "    </tr>\n",
       "    <tr>\n",
       "      <th>1</th>\n",
       "      <td>22001</td>\n",
       "      <td>Acadia</td>\n",
       "      <td>Louisiana</td>\n",
       "      <td>US</td>\n",
       "      <td>2020-03-30 22:52:45</td>\n",
       "      <td>30.295065</td>\n",
       "      <td>-92.414197</td>\n",
       "      <td>11</td>\n",
       "      <td>1</td>\n",
       "      <td>0</td>\n",
       "      <td>0</td>\n",
       "      <td>Acadia, Louisiana, US</td>\n",
       "    </tr>\n",
       "    <tr>\n",
       "      <th>2</th>\n",
       "      <td>51001</td>\n",
       "      <td>Accomack</td>\n",
       "      <td>Virginia</td>\n",
       "      <td>US</td>\n",
       "      <td>2020-03-30 22:52:45</td>\n",
       "      <td>37.767072</td>\n",
       "      <td>-75.632346</td>\n",
       "      <td>6</td>\n",
       "      <td>0</td>\n",
       "      <td>0</td>\n",
       "      <td>0</td>\n",
       "      <td>Accomack, Virginia, US</td>\n",
       "    </tr>\n",
       "    <tr>\n",
       "      <th>3</th>\n",
       "      <td>16001</td>\n",
       "      <td>Ada</td>\n",
       "      <td>Idaho</td>\n",
       "      <td>US</td>\n",
       "      <td>2020-03-30 22:52:45</td>\n",
       "      <td>43.452658</td>\n",
       "      <td>-116.241552</td>\n",
       "      <td>113</td>\n",
       "      <td>2</td>\n",
       "      <td>0</td>\n",
       "      <td>0</td>\n",
       "      <td>Ada, Idaho, US</td>\n",
       "    </tr>\n",
       "    <tr>\n",
       "      <th>4</th>\n",
       "      <td>19001</td>\n",
       "      <td>Adair</td>\n",
       "      <td>Iowa</td>\n",
       "      <td>US</td>\n",
       "      <td>2020-03-30 22:52:45</td>\n",
       "      <td>41.330756</td>\n",
       "      <td>-94.471059</td>\n",
       "      <td>1</td>\n",
       "      <td>0</td>\n",
       "      <td>0</td>\n",
       "      <td>0</td>\n",
       "      <td>Adair, Iowa, US</td>\n",
       "    </tr>\n",
       "    <tr>\n",
       "      <th>...</th>\n",
       "      <td>...</td>\n",
       "      <td>...</td>\n",
       "      <td>...</td>\n",
       "      <td>...</td>\n",
       "      <td>...</td>\n",
       "      <td>...</td>\n",
       "      <td>...</td>\n",
       "      <td>...</td>\n",
       "      <td>...</td>\n",
       "      <td>...</td>\n",
       "      <td>...</td>\n",
       "      <td>...</td>\n",
       "    </tr>\n",
       "    <tr>\n",
       "      <th>3434</th>\n",
       "      <td>None</td>\n",
       "      <td>None</td>\n",
       "      <td>None</td>\n",
       "      <td>Venezuela</td>\n",
       "      <td>2020-03-30 22:52:33</td>\n",
       "      <td>6.423800</td>\n",
       "      <td>-66.589700</td>\n",
       "      <td>135</td>\n",
       "      <td>3</td>\n",
       "      <td>39</td>\n",
       "      <td>93</td>\n",
       "      <td>Venezuela</td>\n",
       "    </tr>\n",
       "    <tr>\n",
       "      <th>3435</th>\n",
       "      <td>None</td>\n",
       "      <td>None</td>\n",
       "      <td>None</td>\n",
       "      <td>Vietnam</td>\n",
       "      <td>2020-03-30 22:52:33</td>\n",
       "      <td>14.058324</td>\n",
       "      <td>108.277199</td>\n",
       "      <td>203</td>\n",
       "      <td>0</td>\n",
       "      <td>55</td>\n",
       "      <td>148</td>\n",
       "      <td>Vietnam</td>\n",
       "    </tr>\n",
       "    <tr>\n",
       "      <th>3436</th>\n",
       "      <td>None</td>\n",
       "      <td>None</td>\n",
       "      <td>None</td>\n",
       "      <td>West Bank and Gaza</td>\n",
       "      <td>2020-03-30 22:52:33</td>\n",
       "      <td>31.952200</td>\n",
       "      <td>35.233200</td>\n",
       "      <td>116</td>\n",
       "      <td>1</td>\n",
       "      <td>18</td>\n",
       "      <td>97</td>\n",
       "      <td>West Bank and Gaza</td>\n",
       "    </tr>\n",
       "    <tr>\n",
       "      <th>3437</th>\n",
       "      <td>None</td>\n",
       "      <td>None</td>\n",
       "      <td>None</td>\n",
       "      <td>Zambia</td>\n",
       "      <td>2020-03-30 22:52:33</td>\n",
       "      <td>-13.133897</td>\n",
       "      <td>27.849332</td>\n",
       "      <td>35</td>\n",
       "      <td>0</td>\n",
       "      <td>0</td>\n",
       "      <td>35</td>\n",
       "      <td>Zambia</td>\n",
       "    </tr>\n",
       "    <tr>\n",
       "      <th>3438</th>\n",
       "      <td>None</td>\n",
       "      <td>None</td>\n",
       "      <td>None</td>\n",
       "      <td>Zimbabwe</td>\n",
       "      <td>2020-03-30 22:52:33</td>\n",
       "      <td>-19.015438</td>\n",
       "      <td>29.154857</td>\n",
       "      <td>7</td>\n",
       "      <td>1</td>\n",
       "      <td>0</td>\n",
       "      <td>6</td>\n",
       "      <td>Zimbabwe</td>\n",
       "    </tr>\n",
       "  </tbody>\n",
       "</table>\n",
       "<p>3439 rows × 12 columns</p>\n",
       "</div>"
      ],
      "text/plain": [
       "       FIPS     Admin2  Province_State      Country_Region  \\\n",
       "0     45001  Abbeville  South Carolina                  US   \n",
       "1     22001     Acadia       Louisiana                  US   \n",
       "2     51001   Accomack        Virginia                  US   \n",
       "3     16001        Ada           Idaho                  US   \n",
       "4     19001      Adair            Iowa                  US   \n",
       "...     ...        ...             ...                 ...   \n",
       "3434   None       None            None           Venezuela   \n",
       "3435   None       None            None             Vietnam   \n",
       "3436   None       None            None  West Bank and Gaza   \n",
       "3437   None       None            None              Zambia   \n",
       "3438   None       None            None            Zimbabwe   \n",
       "\n",
       "              Last_Update        Lat       Long_  Confirmed  Deaths  \\\n",
       "0     2020-03-30 22:52:45  34.223334  -82.461707          3       0   \n",
       "1     2020-03-30 22:52:45  30.295065  -92.414197         11       1   \n",
       "2     2020-03-30 22:52:45  37.767072  -75.632346          6       0   \n",
       "3     2020-03-30 22:52:45  43.452658 -116.241552        113       2   \n",
       "4     2020-03-30 22:52:45  41.330756  -94.471059          1       0   \n",
       "...                   ...        ...         ...        ...     ...   \n",
       "3434  2020-03-30 22:52:33   6.423800  -66.589700        135       3   \n",
       "3435  2020-03-30 22:52:33  14.058324  108.277199        203       0   \n",
       "3436  2020-03-30 22:52:33  31.952200   35.233200        116       1   \n",
       "3437  2020-03-30 22:52:33 -13.133897   27.849332         35       0   \n",
       "3438  2020-03-30 22:52:33 -19.015438   29.154857          7       1   \n",
       "\n",
       "      Recovered  Active                   Combined_Key  \n",
       "0             0       0  Abbeville, South Carolina, US  \n",
       "1             0       0          Acadia, Louisiana, US  \n",
       "2             0       0         Accomack, Virginia, US  \n",
       "3             0       0                 Ada, Idaho, US  \n",
       "4             0       0                Adair, Iowa, US  \n",
       "...         ...     ...                            ...  \n",
       "3434         39      93                      Venezuela  \n",
       "3435         55     148                        Vietnam  \n",
       "3436         18      97             West Bank and Gaza  \n",
       "3437          0      35                         Zambia  \n",
       "3438          0       6                       Zimbabwe  \n",
       "\n",
       "[3439 rows x 12 columns]"
      ]
     },
     "execution_count": 8,
     "metadata": {},
     "output_type": "execute_result"
    }
   ],
   "source": [
    "covid"
   ]
  },
  {
   "cell_type": "code",
   "execution_count": 9,
   "metadata": {},
   "outputs": [
    {
     "data": {
      "text/plain": [
       "True"
      ]
     },
     "execution_count": 9,
     "metadata": {},
     "output_type": "execute_result"
    }
   ],
   "source": [
    "'query' in param_dict.keys()"
   ]
  },
  {
   "cell_type": "code",
   "execution_count": 18,
   "metadata": {},
   "outputs": [
    {
     "data": {
      "text/plain": [
       "{'query': 'Province_State==\"California\" & Admin2 in [\"Alameda\",\"Santa Clara\",\"Santa Cruz\",\"San Francisco\",\"San Mateo\",\"Marin\",\"Contra Costa\"]',\n",
       " 'confirmed': 2138,\n",
       " 'deaths': 52,\n",
       " 'active': 2086,\n",
       " 'date': '2020-03-30'}"
      ]
     },
     "execution_count": 18,
     "metadata": {},
     "output_type": "execute_result"
    }
   ],
   "source": [
    "daily"
   ]
  },
  {
   "cell_type": "code",
   "execution_count": 19,
   "metadata": {},
   "outputs": [
    {
     "data": {
      "text/plain": [
       "[{'query': 'Province_State==\"California\" & Admin2 in [\"Alameda\",\"Santa Clara\",\"Santa Cruz\",\"San Francisco\",\"San Mateo\",\"Marin\",\"Contra Costa\"]',\n",
       "  'confirmed': 673,\n",
       "  'deaths': 10,\n",
       "  'active': 663,\n",
       "  'date': '3/22/20'},\n",
       " {'query': 'Province_State==\"California\" & Admin2 in [\"Alameda\",\"Santa Clara\",\"Santa Cruz\",\"San Francisco\",\"San Mateo\",\"Marin\",\"Contra Costa\"]',\n",
       "  'confirmed': 824,\n",
       "  'deaths': 13,\n",
       "  'active': 811,\n",
       "  'date': '2020-03-23'},\n",
       " {'query': 'Province_State==\"California\" & Admin2 in [\"Alameda\",\"Santa Clara\",\"Santa Cruz\",\"San Francisco\",\"San Mateo\",\"Marin\",\"Contra Costa\"]',\n",
       "  'confirmed': 978,\n",
       "  'deaths': 20,\n",
       "  'active': 958,\n",
       "  'date': '2020-03-24'},\n",
       " {'query': 'Province_State==\"California\" & Admin2 in [\"Alameda\",\"Santa Clara\",\"Santa Cruz\",\"San Francisco\",\"San Mateo\",\"Marin\",\"Contra Costa\"]',\n",
       "  'confirmed': 1122,\n",
       "  'deaths': 26,\n",
       "  'active': 1096,\n",
       "  'date': '2020-03-25'},\n",
       " {'query': 'Province_State==\"California\" & Admin2 in [\"Alameda\",\"Santa Clara\",\"Santa Cruz\",\"San Francisco\",\"San Mateo\",\"Marin\",\"Contra Costa\"]',\n",
       "  'confirmed': 1354,\n",
       "  'deaths': 31,\n",
       "  'active': 1323,\n",
       "  'date': '2020-03-26'},\n",
       " {'query': 'Province_State==\"California\" & Admin2 in [\"Alameda\",\"Santa Clara\",\"Santa Cruz\",\"San Francisco\",\"San Mateo\",\"Marin\",\"Contra Costa\"]',\n",
       "  'confirmed': 1556,\n",
       "  'deaths': 34,\n",
       "  'active': 1522,\n",
       "  'date': '2020-03-27'},\n",
       " {'query': 'Province_State==\"California\" & Admin2 in [\"Alameda\",\"Santa Clara\",\"Santa Cruz\",\"San Francisco\",\"San Mateo\",\"Marin\",\"Contra Costa\"]',\n",
       "  'confirmed': 1663,\n",
       "  'deaths': 42,\n",
       "  'active': 1621,\n",
       "  'date': '2020-03-28'},\n",
       " {'query': 'Province_State==\"California\" & Admin2 in [\"Alameda\",\"Santa Clara\",\"Santa Cruz\",\"San Francisco\",\"San Mateo\",\"Marin\",\"Contra Costa\"]',\n",
       "  'confirmed': 1816,\n",
       "  'deaths': 46,\n",
       "  'active': 1770,\n",
       "  'date': '2020-03-29'},\n",
       " {'query': 'Province_State==\"California\" & Admin2 in [\"Alameda\",\"Santa Clara\",\"Santa Cruz\",\"San Francisco\",\"San Mateo\",\"Marin\",\"Contra Costa\"]',\n",
       "  'confirmed': 2138,\n",
       "  'deaths': 52,\n",
       "  'active': 2086,\n",
       "  'date': '2020-03-30'}]"
      ]
     },
     "execution_count": 19,
     "metadata": {},
     "output_type": "execute_result"
    }
   ],
   "source": [
    "recs"
   ]
  },
  {
   "cell_type": "code",
   "execution_count": 20,
   "metadata": {},
   "outputs": [
    {
     "ename": "ValueError",
     "evalue": "cannot convert float NaN to integer",
     "output_type": "error",
     "traceback": [
      "\u001b[0;31m---------------------------------------------------------------------------\u001b[0m",
      "\u001b[0;31mValueError\u001b[0m                                Traceback (most recent call last)",
      "\u001b[0;32m<ipython-input-20-df9ca503e973>\u001b[0m in \u001b[0;36m<module>\u001b[0;34m\u001b[0m\n\u001b[0;32m----> 1\u001b[0;31m \u001b[0mcovid_ts\u001b[0m \u001b[0;34m=\u001b[0m \u001b[0mca\u001b[0m\u001b[0;34m.\u001b[0m\u001b[0mcovid_dict_to_timeseries_df\u001b[0m\u001b[0;34m(\u001b[0m\u001b[0mrecs\u001b[0m\u001b[0;34m,\u001b[0m \u001b[0mparam_dict\u001b[0m\u001b[0;34m[\u001b[0m\u001b[0;34m'start_date'\u001b[0m\u001b[0;34m]\u001b[0m\u001b[0;34m,\u001b[0m \u001b[0mparam_dict\u001b[0m\u001b[0;34m[\u001b[0m\u001b[0;34m'end_date'\u001b[0m\u001b[0;34m]\u001b[0m\u001b[0;34m)\u001b[0m\u001b[0;34m\u001b[0m\u001b[0;34m\u001b[0m\u001b[0m\n\u001b[0m",
      "\u001b[0;32m~/Documents/code/covid-analytics/covidanalytics/analytics.py\u001b[0m in \u001b[0;36mcovid_dict_to_timeseries_df\u001b[0;34m(ps_dict, start_date, end_date)\u001b[0m\n\u001b[1;32m     11\u001b[0m     \u001b[0mtc\u001b[0m \u001b[0;34m=\u001b[0m \u001b[0mnp\u001b[0m\u001b[0;34m.\u001b[0m\u001b[0minsert\u001b[0m\u001b[0;34m(\u001b[0m\u001b[0mtc\u001b[0m\u001b[0;34m,\u001b[0m\u001b[0;36m0\u001b[0m\u001b[0;34m,\u001b[0m\u001b[0;36m0\u001b[0m\u001b[0;34m)\u001b[0m\u001b[0;34m\u001b[0m\u001b[0;34m\u001b[0m\u001b[0m\n\u001b[1;32m     12\u001b[0m     \u001b[0mdf\u001b[0m\u001b[0;34m[\u001b[0m\u001b[0;34m'total_change'\u001b[0m\u001b[0;34m]\u001b[0m \u001b[0;34m=\u001b[0m \u001b[0mtc\u001b[0m\u001b[0;34m\u001b[0m\u001b[0;34m\u001b[0m\u001b[0m\n\u001b[0;32m---> 13\u001b[0;31m     \u001b[0mdenom\u001b[0m \u001b[0;34m=\u001b[0m \u001b[0minitial\u001b[0m\u001b[0;34m[\u001b[0m\u001b[0mnp\u001b[0m\u001b[0;34m.\u001b[0m\u001b[0mwhere\u001b[0m\u001b[0;34m(\u001b[0m\u001b[0minitial\u001b[0m\u001b[0;34m==\u001b[0m\u001b[0;36m0\u001b[0m\u001b[0;34m)\u001b[0m\u001b[0;34m]\u001b[0m\u001b[0;34m=\u001b[0m\u001b[0mnp\u001b[0m\u001b[0;34m.\u001b[0m\u001b[0mnan\u001b[0m\u001b[0;34m\u001b[0m\u001b[0;34m\u001b[0m\u001b[0m\n\u001b[0m\u001b[1;32m     14\u001b[0m     \u001b[0mpc\u001b[0m \u001b[0;34m=\u001b[0m \u001b[0;34m(\u001b[0m\u001b[0;34m(\u001b[0m\u001b[0mfinal\u001b[0m \u001b[0;34m-\u001b[0m \u001b[0minitial\u001b[0m\u001b[0;34m)\u001b[0m \u001b[0;34m/\u001b[0m \u001b[0minitial\u001b[0m\u001b[0;34m)\u001b[0m \u001b[0;34m*\u001b[0m \u001b[0;36m100\u001b[0m\u001b[0;34m\u001b[0m\u001b[0;34m\u001b[0m\u001b[0m\n\u001b[1;32m     15\u001b[0m     \u001b[0mpc\u001b[0m \u001b[0;34m=\u001b[0m \u001b[0mnp\u001b[0m\u001b[0;34m.\u001b[0m\u001b[0minsert\u001b[0m\u001b[0;34m(\u001b[0m\u001b[0mpc\u001b[0m\u001b[0;34m,\u001b[0m\u001b[0;36m0\u001b[0m\u001b[0;34m,\u001b[0m\u001b[0;36m0\u001b[0m\u001b[0;34m)\u001b[0m\u001b[0;34m\u001b[0m\u001b[0;34m\u001b[0m\u001b[0m\n",
      "\u001b[0;31mValueError\u001b[0m: cannot convert float NaN to integer"
     ]
    }
   ],
   "source": [
    "covid_ts = ca.covid_dict_to_timeseries_df(recs, param_dict['start_date'], param_dict['end_date'])\n"
   ]
  },
  {
   "cell_type": "code",
   "execution_count": 26,
   "metadata": {},
   "outputs": [],
   "source": [
    "import pandas as pd\n",
    "import numpy as np"
   ]
  },
  {
   "cell_type": "code",
   "execution_count": 23,
   "metadata": {},
   "outputs": [],
   "source": [
    "df=pd.DataFrame(recs,index=pd.date_range('03/22/2020','03/30/2020'))"
   ]
  },
  {
   "cell_type": "code",
   "execution_count": 24,
   "metadata": {},
   "outputs": [
    {
     "data": {
      "text/html": [
       "<div>\n",
       "<style scoped>\n",
       "    .dataframe tbody tr th:only-of-type {\n",
       "        vertical-align: middle;\n",
       "    }\n",
       "\n",
       "    .dataframe tbody tr th {\n",
       "        vertical-align: top;\n",
       "    }\n",
       "\n",
       "    .dataframe thead th {\n",
       "        text-align: right;\n",
       "    }\n",
       "</style>\n",
       "<table border=\"1\" class=\"dataframe\">\n",
       "  <thead>\n",
       "    <tr style=\"text-align: right;\">\n",
       "      <th></th>\n",
       "      <th>query</th>\n",
       "      <th>confirmed</th>\n",
       "      <th>deaths</th>\n",
       "      <th>active</th>\n",
       "      <th>date</th>\n",
       "    </tr>\n",
       "  </thead>\n",
       "  <tbody>\n",
       "    <tr>\n",
       "      <th>2020-03-22</th>\n",
       "      <td>Province_State==\"California\" &amp; Admin2 in [\"Ala...</td>\n",
       "      <td>673</td>\n",
       "      <td>10</td>\n",
       "      <td>663</td>\n",
       "      <td>3/22/20</td>\n",
       "    </tr>\n",
       "    <tr>\n",
       "      <th>2020-03-23</th>\n",
       "      <td>Province_State==\"California\" &amp; Admin2 in [\"Ala...</td>\n",
       "      <td>824</td>\n",
       "      <td>13</td>\n",
       "      <td>811</td>\n",
       "      <td>2020-03-23</td>\n",
       "    </tr>\n",
       "    <tr>\n",
       "      <th>2020-03-24</th>\n",
       "      <td>Province_State==\"California\" &amp; Admin2 in [\"Ala...</td>\n",
       "      <td>978</td>\n",
       "      <td>20</td>\n",
       "      <td>958</td>\n",
       "      <td>2020-03-24</td>\n",
       "    </tr>\n",
       "    <tr>\n",
       "      <th>2020-03-25</th>\n",
       "      <td>Province_State==\"California\" &amp; Admin2 in [\"Ala...</td>\n",
       "      <td>1122</td>\n",
       "      <td>26</td>\n",
       "      <td>1096</td>\n",
       "      <td>2020-03-25</td>\n",
       "    </tr>\n",
       "    <tr>\n",
       "      <th>2020-03-26</th>\n",
       "      <td>Province_State==\"California\" &amp; Admin2 in [\"Ala...</td>\n",
       "      <td>1354</td>\n",
       "      <td>31</td>\n",
       "      <td>1323</td>\n",
       "      <td>2020-03-26</td>\n",
       "    </tr>\n",
       "    <tr>\n",
       "      <th>2020-03-27</th>\n",
       "      <td>Province_State==\"California\" &amp; Admin2 in [\"Ala...</td>\n",
       "      <td>1556</td>\n",
       "      <td>34</td>\n",
       "      <td>1522</td>\n",
       "      <td>2020-03-27</td>\n",
       "    </tr>\n",
       "    <tr>\n",
       "      <th>2020-03-28</th>\n",
       "      <td>Province_State==\"California\" &amp; Admin2 in [\"Ala...</td>\n",
       "      <td>1663</td>\n",
       "      <td>42</td>\n",
       "      <td>1621</td>\n",
       "      <td>2020-03-28</td>\n",
       "    </tr>\n",
       "    <tr>\n",
       "      <th>2020-03-29</th>\n",
       "      <td>Province_State==\"California\" &amp; Admin2 in [\"Ala...</td>\n",
       "      <td>1816</td>\n",
       "      <td>46</td>\n",
       "      <td>1770</td>\n",
       "      <td>2020-03-29</td>\n",
       "    </tr>\n",
       "    <tr>\n",
       "      <th>2020-03-30</th>\n",
       "      <td>Province_State==\"California\" &amp; Admin2 in [\"Ala...</td>\n",
       "      <td>2138</td>\n",
       "      <td>52</td>\n",
       "      <td>2086</td>\n",
       "      <td>2020-03-30</td>\n",
       "    </tr>\n",
       "  </tbody>\n",
       "</table>\n",
       "</div>"
      ],
      "text/plain": [
       "                                                        query  confirmed  \\\n",
       "2020-03-22  Province_State==\"California\" & Admin2 in [\"Ala...        673   \n",
       "2020-03-23  Province_State==\"California\" & Admin2 in [\"Ala...        824   \n",
       "2020-03-24  Province_State==\"California\" & Admin2 in [\"Ala...        978   \n",
       "2020-03-25  Province_State==\"California\" & Admin2 in [\"Ala...       1122   \n",
       "2020-03-26  Province_State==\"California\" & Admin2 in [\"Ala...       1354   \n",
       "2020-03-27  Province_State==\"California\" & Admin2 in [\"Ala...       1556   \n",
       "2020-03-28  Province_State==\"California\" & Admin2 in [\"Ala...       1663   \n",
       "2020-03-29  Province_State==\"California\" & Admin2 in [\"Ala...       1816   \n",
       "2020-03-30  Province_State==\"California\" & Admin2 in [\"Ala...       2138   \n",
       "\n",
       "            deaths  active        date  \n",
       "2020-03-22      10     663     3/22/20  \n",
       "2020-03-23      13     811  2020-03-23  \n",
       "2020-03-24      20     958  2020-03-24  \n",
       "2020-03-25      26    1096  2020-03-25  \n",
       "2020-03-26      31    1323  2020-03-26  \n",
       "2020-03-27      34    1522  2020-03-27  \n",
       "2020-03-28      42    1621  2020-03-28  \n",
       "2020-03-29      46    1770  2020-03-29  \n",
       "2020-03-30      52    2086  2020-03-30  "
      ]
     },
     "execution_count": 24,
     "metadata": {},
     "output_type": "execute_result"
    }
   ],
   "source": [
    "df"
   ]
  },
  {
   "cell_type": "code",
   "execution_count": 28,
   "metadata": {},
   "outputs": [
    {
     "data": {
      "text/html": [
       "<div>\n",
       "<style scoped>\n",
       "    .dataframe tbody tr th:only-of-type {\n",
       "        vertical-align: middle;\n",
       "    }\n",
       "\n",
       "    .dataframe tbody tr th {\n",
       "        vertical-align: top;\n",
       "    }\n",
       "\n",
       "    .dataframe thead th {\n",
       "        text-align: right;\n",
       "    }\n",
       "</style>\n",
       "<table border=\"1\" class=\"dataframe\">\n",
       "  <thead>\n",
       "    <tr style=\"text-align: right;\">\n",
       "      <th></th>\n",
       "      <th>query</th>\n",
       "      <th>confirmed</th>\n",
       "      <th>deaths</th>\n",
       "      <th>active</th>\n",
       "      <th>date</th>\n",
       "      <th>total_change</th>\n",
       "    </tr>\n",
       "  </thead>\n",
       "  <tbody>\n",
       "    <tr>\n",
       "      <th>2020-03-22</th>\n",
       "      <td>Province_State==\"California\" &amp; Admin2 in [\"Ala...</td>\n",
       "      <td>673</td>\n",
       "      <td>10</td>\n",
       "      <td>663</td>\n",
       "      <td>3/22/20</td>\n",
       "      <td>0.0</td>\n",
       "    </tr>\n",
       "    <tr>\n",
       "      <th>2020-03-23</th>\n",
       "      <td>Province_State==\"California\" &amp; Admin2 in [\"Ala...</td>\n",
       "      <td>824</td>\n",
       "      <td>13</td>\n",
       "      <td>811</td>\n",
       "      <td>2020-03-23</td>\n",
       "      <td>0.0</td>\n",
       "    </tr>\n",
       "    <tr>\n",
       "      <th>2020-03-24</th>\n",
       "      <td>Province_State==\"California\" &amp; Admin2 in [\"Ala...</td>\n",
       "      <td>978</td>\n",
       "      <td>20</td>\n",
       "      <td>958</td>\n",
       "      <td>2020-03-24</td>\n",
       "      <td>0.0</td>\n",
       "    </tr>\n",
       "    <tr>\n",
       "      <th>2020-03-25</th>\n",
       "      <td>Province_State==\"California\" &amp; Admin2 in [\"Ala...</td>\n",
       "      <td>1122</td>\n",
       "      <td>26</td>\n",
       "      <td>1096</td>\n",
       "      <td>2020-03-25</td>\n",
       "      <td>0.0</td>\n",
       "    </tr>\n",
       "    <tr>\n",
       "      <th>2020-03-26</th>\n",
       "      <td>Province_State==\"California\" &amp; Admin2 in [\"Ala...</td>\n",
       "      <td>1354</td>\n",
       "      <td>31</td>\n",
       "      <td>1323</td>\n",
       "      <td>2020-03-26</td>\n",
       "      <td>0.0</td>\n",
       "    </tr>\n",
       "    <tr>\n",
       "      <th>2020-03-27</th>\n",
       "      <td>Province_State==\"California\" &amp; Admin2 in [\"Ala...</td>\n",
       "      <td>1556</td>\n",
       "      <td>34</td>\n",
       "      <td>1522</td>\n",
       "      <td>2020-03-27</td>\n",
       "      <td>0.0</td>\n",
       "    </tr>\n",
       "    <tr>\n",
       "      <th>2020-03-28</th>\n",
       "      <td>Province_State==\"California\" &amp; Admin2 in [\"Ala...</td>\n",
       "      <td>1663</td>\n",
       "      <td>42</td>\n",
       "      <td>1621</td>\n",
       "      <td>2020-03-28</td>\n",
       "      <td>0.0</td>\n",
       "    </tr>\n",
       "    <tr>\n",
       "      <th>2020-03-29</th>\n",
       "      <td>Province_State==\"California\" &amp; Admin2 in [\"Ala...</td>\n",
       "      <td>1816</td>\n",
       "      <td>46</td>\n",
       "      <td>1770</td>\n",
       "      <td>2020-03-29</td>\n",
       "      <td>0.0</td>\n",
       "    </tr>\n",
       "    <tr>\n",
       "      <th>2020-03-30</th>\n",
       "      <td>Province_State==\"California\" &amp; Admin2 in [\"Ala...</td>\n",
       "      <td>2138</td>\n",
       "      <td>52</td>\n",
       "      <td>2086</td>\n",
       "      <td>2020-03-30</td>\n",
       "      <td>0.0</td>\n",
       "    </tr>\n",
       "  </tbody>\n",
       "</table>\n",
       "</div>"
      ],
      "text/plain": [
       "                                                        query  confirmed  \\\n",
       "2020-03-22  Province_State==\"California\" & Admin2 in [\"Ala...        673   \n",
       "2020-03-23  Province_State==\"California\" & Admin2 in [\"Ala...        824   \n",
       "2020-03-24  Province_State==\"California\" & Admin2 in [\"Ala...        978   \n",
       "2020-03-25  Province_State==\"California\" & Admin2 in [\"Ala...       1122   \n",
       "2020-03-26  Province_State==\"California\" & Admin2 in [\"Ala...       1354   \n",
       "2020-03-27  Province_State==\"California\" & Admin2 in [\"Ala...       1556   \n",
       "2020-03-28  Province_State==\"California\" & Admin2 in [\"Ala...       1663   \n",
       "2020-03-29  Province_State==\"California\" & Admin2 in [\"Ala...       1816   \n",
       "2020-03-30  Province_State==\"California\" & Admin2 in [\"Ala...       2138   \n",
       "\n",
       "            deaths  active        date  total_change  \n",
       "2020-03-22      10     663     3/22/20           0.0  \n",
       "2020-03-23      13     811  2020-03-23           0.0  \n",
       "2020-03-24      20     958  2020-03-24           0.0  \n",
       "2020-03-25      26    1096  2020-03-25           0.0  \n",
       "2020-03-26      31    1323  2020-03-26           0.0  \n",
       "2020-03-27      34    1522  2020-03-27           0.0  \n",
       "2020-03-28      42    1621  2020-03-28           0.0  \n",
       "2020-03-29      46    1770  2020-03-29           0.0  \n",
       "2020-03-30      52    2086  2020-03-30           0.0  "
      ]
     },
     "execution_count": 28,
     "metadata": {},
     "output_type": "execute_result"
    }
   ],
   "source": [
    "df['total_change'] = np.zeros((len(df.index),1))\n",
    "df"
   ]
  },
  {
   "cell_type": "code",
   "execution_count": 29,
   "metadata": {},
   "outputs": [
    {
     "data": {
      "text/html": [
       "<div>\n",
       "<style scoped>\n",
       "    .dataframe tbody tr th:only-of-type {\n",
       "        vertical-align: middle;\n",
       "    }\n",
       "\n",
       "    .dataframe tbody tr th {\n",
       "        vertical-align: top;\n",
       "    }\n",
       "\n",
       "    .dataframe thead th {\n",
       "        text-align: right;\n",
       "    }\n",
       "</style>\n",
       "<table border=\"1\" class=\"dataframe\">\n",
       "  <thead>\n",
       "    <tr style=\"text-align: right;\">\n",
       "      <th></th>\n",
       "      <th>query</th>\n",
       "      <th>confirmed</th>\n",
       "      <th>deaths</th>\n",
       "      <th>active</th>\n",
       "      <th>date</th>\n",
       "      <th>total_change</th>\n",
       "      <th>percent_change</th>\n",
       "    </tr>\n",
       "  </thead>\n",
       "  <tbody>\n",
       "    <tr>\n",
       "      <th>2020-03-22</th>\n",
       "      <td>Province_State==\"California\" &amp; Admin2 in [\"Ala...</td>\n",
       "      <td>673</td>\n",
       "      <td>10</td>\n",
       "      <td>663</td>\n",
       "      <td>3/22/20</td>\n",
       "      <td>0.0</td>\n",
       "      <td>0.0</td>\n",
       "    </tr>\n",
       "    <tr>\n",
       "      <th>2020-03-23</th>\n",
       "      <td>Province_State==\"California\" &amp; Admin2 in [\"Ala...</td>\n",
       "      <td>824</td>\n",
       "      <td>13</td>\n",
       "      <td>811</td>\n",
       "      <td>2020-03-23</td>\n",
       "      <td>0.0</td>\n",
       "      <td>0.0</td>\n",
       "    </tr>\n",
       "    <tr>\n",
       "      <th>2020-03-24</th>\n",
       "      <td>Province_State==\"California\" &amp; Admin2 in [\"Ala...</td>\n",
       "      <td>978</td>\n",
       "      <td>20</td>\n",
       "      <td>958</td>\n",
       "      <td>2020-03-24</td>\n",
       "      <td>0.0</td>\n",
       "      <td>0.0</td>\n",
       "    </tr>\n",
       "    <tr>\n",
       "      <th>2020-03-25</th>\n",
       "      <td>Province_State==\"California\" &amp; Admin2 in [\"Ala...</td>\n",
       "      <td>1122</td>\n",
       "      <td>26</td>\n",
       "      <td>1096</td>\n",
       "      <td>2020-03-25</td>\n",
       "      <td>0.0</td>\n",
       "      <td>0.0</td>\n",
       "    </tr>\n",
       "    <tr>\n",
       "      <th>2020-03-26</th>\n",
       "      <td>Province_State==\"California\" &amp; Admin2 in [\"Ala...</td>\n",
       "      <td>1354</td>\n",
       "      <td>31</td>\n",
       "      <td>1323</td>\n",
       "      <td>2020-03-26</td>\n",
       "      <td>0.0</td>\n",
       "      <td>0.0</td>\n",
       "    </tr>\n",
       "    <tr>\n",
       "      <th>2020-03-27</th>\n",
       "      <td>Province_State==\"California\" &amp; Admin2 in [\"Ala...</td>\n",
       "      <td>1556</td>\n",
       "      <td>34</td>\n",
       "      <td>1522</td>\n",
       "      <td>2020-03-27</td>\n",
       "      <td>0.0</td>\n",
       "      <td>0.0</td>\n",
       "    </tr>\n",
       "    <tr>\n",
       "      <th>2020-03-28</th>\n",
       "      <td>Province_State==\"California\" &amp; Admin2 in [\"Ala...</td>\n",
       "      <td>1663</td>\n",
       "      <td>42</td>\n",
       "      <td>1621</td>\n",
       "      <td>2020-03-28</td>\n",
       "      <td>0.0</td>\n",
       "      <td>0.0</td>\n",
       "    </tr>\n",
       "    <tr>\n",
       "      <th>2020-03-29</th>\n",
       "      <td>Province_State==\"California\" &amp; Admin2 in [\"Ala...</td>\n",
       "      <td>1816</td>\n",
       "      <td>46</td>\n",
       "      <td>1770</td>\n",
       "      <td>2020-03-29</td>\n",
       "      <td>0.0</td>\n",
       "      <td>0.0</td>\n",
       "    </tr>\n",
       "    <tr>\n",
       "      <th>2020-03-30</th>\n",
       "      <td>Province_State==\"California\" &amp; Admin2 in [\"Ala...</td>\n",
       "      <td>2138</td>\n",
       "      <td>52</td>\n",
       "      <td>2086</td>\n",
       "      <td>2020-03-30</td>\n",
       "      <td>0.0</td>\n",
       "      <td>0.0</td>\n",
       "    </tr>\n",
       "  </tbody>\n",
       "</table>\n",
       "</div>"
      ],
      "text/plain": [
       "                                                        query  confirmed  \\\n",
       "2020-03-22  Province_State==\"California\" & Admin2 in [\"Ala...        673   \n",
       "2020-03-23  Province_State==\"California\" & Admin2 in [\"Ala...        824   \n",
       "2020-03-24  Province_State==\"California\" & Admin2 in [\"Ala...        978   \n",
       "2020-03-25  Province_State==\"California\" & Admin2 in [\"Ala...       1122   \n",
       "2020-03-26  Province_State==\"California\" & Admin2 in [\"Ala...       1354   \n",
       "2020-03-27  Province_State==\"California\" & Admin2 in [\"Ala...       1556   \n",
       "2020-03-28  Province_State==\"California\" & Admin2 in [\"Ala...       1663   \n",
       "2020-03-29  Province_State==\"California\" & Admin2 in [\"Ala...       1816   \n",
       "2020-03-30  Province_State==\"California\" & Admin2 in [\"Ala...       2138   \n",
       "\n",
       "            deaths  active        date  total_change  percent_change  \n",
       "2020-03-22      10     663     3/22/20           0.0             0.0  \n",
       "2020-03-23      13     811  2020-03-23           0.0             0.0  \n",
       "2020-03-24      20     958  2020-03-24           0.0             0.0  \n",
       "2020-03-25      26    1096  2020-03-25           0.0             0.0  \n",
       "2020-03-26      31    1323  2020-03-26           0.0             0.0  \n",
       "2020-03-27      34    1522  2020-03-27           0.0             0.0  \n",
       "2020-03-28      42    1621  2020-03-28           0.0             0.0  \n",
       "2020-03-29      46    1770  2020-03-29           0.0             0.0  \n",
       "2020-03-30      52    2086  2020-03-30           0.0             0.0  "
      ]
     },
     "execution_count": 29,
     "metadata": {},
     "output_type": "execute_result"
    }
   ],
   "source": [
    "df['percent_change'] = np.zeros((len(df.index),1))\n",
    "df"
   ]
  },
  {
   "cell_type": "code",
   "execution_count": 30,
   "metadata": {},
   "outputs": [
    {
     "data": {
      "text/plain": [
       "array([ 824,  978, 1122, 1354, 1556, 1663, 1816, 2138])"
      ]
     },
     "execution_count": 30,
     "metadata": {},
     "output_type": "execute_result"
    }
   ],
   "source": [
    "final = df['confirmed'].loc[df.index[1]:df.index[-1]].values\n",
    "final"
   ]
  },
  {
   "cell_type": "code",
   "execution_count": 31,
   "metadata": {},
   "outputs": [
    {
     "data": {
      "text/plain": [
       "array([ 673,  824,  978, 1122, 1354, 1556, 1663, 1816])"
      ]
     },
     "execution_count": 31,
     "metadata": {},
     "output_type": "execute_result"
    }
   ],
   "source": [
    "initial = df['confirmed'].loc[df.index[0]:df.index[-2]].values\n",
    "initial"
   ]
  },
  {
   "cell_type": "code",
   "execution_count": 35,
   "metadata": {},
   "outputs": [
    {
     "data": {
      "text/plain": [
       "array([151, 154, 144, 232, 202, 107, 153, 322])"
      ]
     },
     "execution_count": 35,
     "metadata": {},
     "output_type": "execute_result"
    }
   ],
   "source": [
    "tc = final - initial\n",
    "tc"
   ]
  },
  {
   "cell_type": "code",
   "execution_count": 36,
   "metadata": {},
   "outputs": [
    {
     "data": {
      "text/plain": [
       "array([  0, 151, 154, 144, 232, 202, 107, 153, 322])"
      ]
     },
     "execution_count": 36,
     "metadata": {},
     "output_type": "execute_result"
    }
   ],
   "source": [
    "tc = np.insert(tc,0,0)\n",
    "tc"
   ]
  },
  {
   "cell_type": "code",
   "execution_count": 37,
   "metadata": {},
   "outputs": [
    {
     "data": {
      "text/html": [
       "<div>\n",
       "<style scoped>\n",
       "    .dataframe tbody tr th:only-of-type {\n",
       "        vertical-align: middle;\n",
       "    }\n",
       "\n",
       "    .dataframe tbody tr th {\n",
       "        vertical-align: top;\n",
       "    }\n",
       "\n",
       "    .dataframe thead th {\n",
       "        text-align: right;\n",
       "    }\n",
       "</style>\n",
       "<table border=\"1\" class=\"dataframe\">\n",
       "  <thead>\n",
       "    <tr style=\"text-align: right;\">\n",
       "      <th></th>\n",
       "      <th>query</th>\n",
       "      <th>confirmed</th>\n",
       "      <th>deaths</th>\n",
       "      <th>active</th>\n",
       "      <th>date</th>\n",
       "      <th>total_change</th>\n",
       "      <th>percent_change</th>\n",
       "    </tr>\n",
       "  </thead>\n",
       "  <tbody>\n",
       "    <tr>\n",
       "      <th>2020-03-22</th>\n",
       "      <td>Province_State==\"California\" &amp; Admin2 in [\"Ala...</td>\n",
       "      <td>673</td>\n",
       "      <td>10</td>\n",
       "      <td>663</td>\n",
       "      <td>3/22/20</td>\n",
       "      <td>0</td>\n",
       "      <td>0.0</td>\n",
       "    </tr>\n",
       "    <tr>\n",
       "      <th>2020-03-23</th>\n",
       "      <td>Province_State==\"California\" &amp; Admin2 in [\"Ala...</td>\n",
       "      <td>824</td>\n",
       "      <td>13</td>\n",
       "      <td>811</td>\n",
       "      <td>2020-03-23</td>\n",
       "      <td>151</td>\n",
       "      <td>0.0</td>\n",
       "    </tr>\n",
       "    <tr>\n",
       "      <th>2020-03-24</th>\n",
       "      <td>Province_State==\"California\" &amp; Admin2 in [\"Ala...</td>\n",
       "      <td>978</td>\n",
       "      <td>20</td>\n",
       "      <td>958</td>\n",
       "      <td>2020-03-24</td>\n",
       "      <td>154</td>\n",
       "      <td>0.0</td>\n",
       "    </tr>\n",
       "    <tr>\n",
       "      <th>2020-03-25</th>\n",
       "      <td>Province_State==\"California\" &amp; Admin2 in [\"Ala...</td>\n",
       "      <td>1122</td>\n",
       "      <td>26</td>\n",
       "      <td>1096</td>\n",
       "      <td>2020-03-25</td>\n",
       "      <td>144</td>\n",
       "      <td>0.0</td>\n",
       "    </tr>\n",
       "    <tr>\n",
       "      <th>2020-03-26</th>\n",
       "      <td>Province_State==\"California\" &amp; Admin2 in [\"Ala...</td>\n",
       "      <td>1354</td>\n",
       "      <td>31</td>\n",
       "      <td>1323</td>\n",
       "      <td>2020-03-26</td>\n",
       "      <td>232</td>\n",
       "      <td>0.0</td>\n",
       "    </tr>\n",
       "    <tr>\n",
       "      <th>2020-03-27</th>\n",
       "      <td>Province_State==\"California\" &amp; Admin2 in [\"Ala...</td>\n",
       "      <td>1556</td>\n",
       "      <td>34</td>\n",
       "      <td>1522</td>\n",
       "      <td>2020-03-27</td>\n",
       "      <td>202</td>\n",
       "      <td>0.0</td>\n",
       "    </tr>\n",
       "    <tr>\n",
       "      <th>2020-03-28</th>\n",
       "      <td>Province_State==\"California\" &amp; Admin2 in [\"Ala...</td>\n",
       "      <td>1663</td>\n",
       "      <td>42</td>\n",
       "      <td>1621</td>\n",
       "      <td>2020-03-28</td>\n",
       "      <td>107</td>\n",
       "      <td>0.0</td>\n",
       "    </tr>\n",
       "    <tr>\n",
       "      <th>2020-03-29</th>\n",
       "      <td>Province_State==\"California\" &amp; Admin2 in [\"Ala...</td>\n",
       "      <td>1816</td>\n",
       "      <td>46</td>\n",
       "      <td>1770</td>\n",
       "      <td>2020-03-29</td>\n",
       "      <td>153</td>\n",
       "      <td>0.0</td>\n",
       "    </tr>\n",
       "    <tr>\n",
       "      <th>2020-03-30</th>\n",
       "      <td>Province_State==\"California\" &amp; Admin2 in [\"Ala...</td>\n",
       "      <td>2138</td>\n",
       "      <td>52</td>\n",
       "      <td>2086</td>\n",
       "      <td>2020-03-30</td>\n",
       "      <td>322</td>\n",
       "      <td>0.0</td>\n",
       "    </tr>\n",
       "  </tbody>\n",
       "</table>\n",
       "</div>"
      ],
      "text/plain": [
       "                                                        query  confirmed  \\\n",
       "2020-03-22  Province_State==\"California\" & Admin2 in [\"Ala...        673   \n",
       "2020-03-23  Province_State==\"California\" & Admin2 in [\"Ala...        824   \n",
       "2020-03-24  Province_State==\"California\" & Admin2 in [\"Ala...        978   \n",
       "2020-03-25  Province_State==\"California\" & Admin2 in [\"Ala...       1122   \n",
       "2020-03-26  Province_State==\"California\" & Admin2 in [\"Ala...       1354   \n",
       "2020-03-27  Province_State==\"California\" & Admin2 in [\"Ala...       1556   \n",
       "2020-03-28  Province_State==\"California\" & Admin2 in [\"Ala...       1663   \n",
       "2020-03-29  Province_State==\"California\" & Admin2 in [\"Ala...       1816   \n",
       "2020-03-30  Province_State==\"California\" & Admin2 in [\"Ala...       2138   \n",
       "\n",
       "            deaths  active        date  total_change  percent_change  \n",
       "2020-03-22      10     663     3/22/20             0             0.0  \n",
       "2020-03-23      13     811  2020-03-23           151             0.0  \n",
       "2020-03-24      20     958  2020-03-24           154             0.0  \n",
       "2020-03-25      26    1096  2020-03-25           144             0.0  \n",
       "2020-03-26      31    1323  2020-03-26           232             0.0  \n",
       "2020-03-27      34    1522  2020-03-27           202             0.0  \n",
       "2020-03-28      42    1621  2020-03-28           107             0.0  \n",
       "2020-03-29      46    1770  2020-03-29           153             0.0  \n",
       "2020-03-30      52    2086  2020-03-30           322             0.0  "
      ]
     },
     "execution_count": 37,
     "metadata": {},
     "output_type": "execute_result"
    }
   ],
   "source": [
    "df['total_change'] = tc\n",
    "df"
   ]
  },
  {
   "cell_type": "code",
   "execution_count": 39,
   "metadata": {},
   "outputs": [
    {
     "ename": "ValueError",
     "evalue": "cannot convert float NaN to integer",
     "output_type": "error",
     "traceback": [
      "\u001b[0;31m---------------------------------------------------------------------------\u001b[0m",
      "\u001b[0;31mValueError\u001b[0m                                Traceback (most recent call last)",
      "\u001b[0;32m<ipython-input-39-8d529a4bb80f>\u001b[0m in \u001b[0;36m<module>\u001b[0;34m\u001b[0m\n\u001b[0;32m----> 1\u001b[0;31m \u001b[0mdenom\u001b[0m \u001b[0;34m=\u001b[0m \u001b[0minitial\u001b[0m\u001b[0;34m[\u001b[0m\u001b[0mnp\u001b[0m\u001b[0;34m.\u001b[0m\u001b[0mwhere\u001b[0m\u001b[0;34m(\u001b[0m\u001b[0minitial\u001b[0m\u001b[0;34m==\u001b[0m\u001b[0;36m0\u001b[0m\u001b[0;34m)\u001b[0m\u001b[0;34m]\u001b[0m\u001b[0;34m=\u001b[0m\u001b[0mnp\u001b[0m\u001b[0;34m.\u001b[0m\u001b[0mnan\u001b[0m\u001b[0;34m\u001b[0m\u001b[0;34m\u001b[0m\u001b[0m\n\u001b[0m",
      "\u001b[0;31mValueError\u001b[0m: cannot convert float NaN to integer"
     ]
    }
   ],
   "source": [
    "denom = initial[np.where(initial==0)]=np.nan\n"
   ]
  },
  {
   "cell_type": "code",
   "execution_count": 38,
   "metadata": {},
   "outputs": [
    {
     "data": {
      "text/plain": [
       "(array([], dtype=int64),)"
      ]
     },
     "execution_count": 38,
     "metadata": {},
     "output_type": "execute_result"
    }
   ],
   "source": [
    "np.where(initial==0)"
   ]
  },
  {
   "cell_type": "code",
   "execution_count": 40,
   "metadata": {},
   "outputs": [
    {
     "ename": "ValueError",
     "evalue": "cannot convert float NaN to integer",
     "output_type": "error",
     "traceback": [
      "\u001b[0;31m---------------------------------------------------------------------------\u001b[0m",
      "\u001b[0;31mValueError\u001b[0m                                Traceback (most recent call last)",
      "\u001b[0;32m<ipython-input-40-de7cb054f849>\u001b[0m in \u001b[0;36m<module>\u001b[0;34m\u001b[0m\n\u001b[0;32m----> 1\u001b[0;31m \u001b[0mdenom\u001b[0m \u001b[0;34m=\u001b[0m \u001b[0minitial\u001b[0m\u001b[0;34m[\u001b[0m\u001b[0;34m[\u001b[0m\u001b[0;34m]\u001b[0m\u001b[0;34m]\u001b[0m\u001b[0;34m=\u001b[0m\u001b[0mnp\u001b[0m\u001b[0;34m.\u001b[0m\u001b[0mnan\u001b[0m\u001b[0;34m\u001b[0m\u001b[0;34m\u001b[0m\u001b[0m\n\u001b[0m",
      "\u001b[0;31mValueError\u001b[0m: cannot convert float NaN to integer"
     ]
    }
   ],
   "source": [
    "denom = initial[[]]=np.nan"
   ]
  },
  {
   "cell_type": "code",
   "execution_count": 41,
   "metadata": {},
   "outputs": [],
   "source": [
    "idx=np.where(initial==0)"
   ]
  },
  {
   "cell_type": "code",
   "execution_count": 44,
   "metadata": {},
   "outputs": [
    {
     "data": {
      "text/plain": [
       "0"
      ]
     },
     "execution_count": 44,
     "metadata": {},
     "output_type": "execute_result"
    }
   ],
   "source": [
    "idx[0].size"
   ]
  },
  {
   "cell_type": "code",
   "execution_count": null,
   "metadata": {},
   "outputs": [],
   "source": []
  }
 ],
 "metadata": {
  "kernelspec": {
   "display_name": "Python 3",
   "language": "python",
   "name": "python3"
  },
  "language_info": {
   "codemirror_mode": {
    "name": "ipython",
    "version": 3
   },
   "file_extension": ".py",
   "mimetype": "text/x-python",
   "name": "python",
   "nbconvert_exporter": "python",
   "pygments_lexer": "ipython3",
   "version": "3.8.2"
  }
 },
 "nbformat": 4,
 "nbformat_minor": 4
}
