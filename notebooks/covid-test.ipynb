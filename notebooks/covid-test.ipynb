{
 "cells": [
  {
   "cell_type": "code",
   "execution_count": 5,
   "metadata": {},
   "outputs": [],
   "source": [
    "import os\n",
    "from covidanalytics import html as ch"
   ]
  },
  {
   "cell_type": "code",
   "execution_count": 2,
   "metadata": {},
   "outputs": [
    {
     "data": {
      "text/plain": [
       "<module 'covidanalytics.html' from '/Users/michaeln/Documents/code/covid-analytics/covidanalytics/html.py'>"
      ]
     },
     "execution_count": 2,
     "metadata": {},
     "output_type": "execute_result"
    }
   ],
   "source": [
    "import importlib\n",
    "importlib.reload(ch)"
   ]
  },
  {
   "cell_type": "code",
   "execution_count": 6,
   "metadata": {},
   "outputs": [],
   "source": [
    "reports_path=os.path.join(os.environ['HOME'],'Documents/code/COVID-19/csse_covid_19_data/csse_covid_19_daily_reports/')\n",
    "html_path=os.path.join(os.environ['HOME'],'Documents/code/covid-static/pages/')"
   ]
  },
  {
   "cell_type": "code",
   "execution_count": 13,
   "metadata": {},
   "outputs": [],
   "source": [
    "param_dict = {'reports_path': reports_path,\n",
    "          'html': {'dir': html_path + 'iran.html',\n",
    "                   'img': 'usa.png',\n",
    "                   'img_shape': 'wide'\n",
    "                  },\n",
    "          'country': 'Iran',\n",
    "          'start_date': '01/22/2020',\n",
    "          'end_date': '04/04/2020',\n",
    "          'title': 'iran - COVID-19'\n",
    "         }"
   ]
  },
  {
   "cell_type": "code",
   "execution_count": 14,
   "metadata": {},
   "outputs": [],
   "source": [
    "param_dict = {'reports_path': reports_path,\n",
    "          'html': {'dir': html_path + 'bay_area.html',\n",
    "                   'img': 'bay_area.png',\n",
    "                   'img_shape': 'square'\n",
    "                  },\n",
    "          'query': 'Province_State==\"California\" & Admin2 in [\"Alameda\",\"Santa Clara\",\"Santa Cruz\",\"San Francisco\",\"San Mateo\",\"Marin\",\"Contra Costa\"]',\n",
    "          'start_date': '03/22/2020',\n",
    "          'end_date': '04/01/2020',\n",
    "          'title': 'Bay Area - COVID-19'\n",
    "         }"
   ]
  },
  {
   "cell_type": "code",
   "execution_count": 14,
   "metadata": {},
   "outputs": [],
   "source": [
    "ch.gen_covid_html(param_dict)"
   ]
  },
  {
   "cell_type": "code",
   "execution_count": 20,
   "metadata": {},
   "outputs": [
    {
     "data": {
      "text/plain": [
       "'1,000'"
      ]
     },
     "execution_count": 20,
     "metadata": {},
     "output_type": "execute_result"
    }
   ],
   "source": [
    "\"{:,}\".format(1000)"
   ]
  },
  {
   "cell_type": "code",
   "execution_count": null,
   "metadata": {},
   "outputs": [],
   "source": []
  }
 ],
 "metadata": {
  "kernelspec": {
   "display_name": "Python 3",
   "language": "python",
   "name": "python3"
  },
  "language_info": {
   "codemirror_mode": {
    "name": "ipython",
    "version": 3
   },
   "file_extension": ".py",
   "mimetype": "text/x-python",
   "name": "python",
   "nbconvert_exporter": "python",
   "pygments_lexer": "ipython3",
   "version": "3.8.2"
  }
 },
 "nbformat": 4,
 "nbformat_minor": 4
}
