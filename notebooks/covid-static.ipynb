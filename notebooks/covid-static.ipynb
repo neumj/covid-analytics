{
 "cells": [
  {
   "cell_type": "code",
   "execution_count": 1,
   "metadata": {},
   "outputs": [
    {
     "ename": "ModuleNotFoundError",
     "evalue": "No module named 'covidanalytics'",
     "output_type": "error",
     "traceback": [
      "\u001b[0;31m---------------------------------------------------------------------------\u001b[0m",
      "\u001b[0;31mModuleNotFoundError\u001b[0m                       Traceback (most recent call last)",
      "\u001b[0;32m<ipython-input-1-3241276eb665>\u001b[0m in \u001b[0;36m<module>\u001b[0;34m\u001b[0m\n\u001b[1;32m      1\u001b[0m \u001b[0;32mimport\u001b[0m \u001b[0mos\u001b[0m\u001b[0;34m\u001b[0m\u001b[0;34m\u001b[0m\u001b[0m\n\u001b[0;32m----> 2\u001b[0;31m \u001b[0;32mfrom\u001b[0m \u001b[0mcovidanalytics\u001b[0m \u001b[0;32mimport\u001b[0m \u001b[0mhtml\u001b[0m\u001b[0;34m\u001b[0m\u001b[0;34m\u001b[0m\u001b[0m\n\u001b[0m",
      "\u001b[0;31mModuleNotFoundError\u001b[0m: No module named 'covidanalytics'"
     ]
    }
   ],
   "source": [
    "import os\n",
    "from covidanalytics import html"
   ]
  },
  {
   "cell_type": "code",
   "execution_count": null,
   "metadata": {},
   "outputs": [],
   "source": [
    "reports_path=os.path.join(os.environ['HOME'],'Documents/code/COVID-19/csse_covid_19_data/csse_covid_19_daily_reports/')\n",
    "html_path=os.path.join(os.environ['HOME'],'Documents/code/covid-static/pages/')"
   ]
  },
  {
   "cell_type": "code",
   "execution_count": null,
   "metadata": {},
   "outputs": [],
   "source": [
    "end_date = '06/25/2020'"
   ]
  },
  {
   "cell_type": "code",
   "execution_count": null,
   "metadata": {},
   "outputs": [],
   "source": [
    "usa = {'reports_path': reports_path,\n",
    "          'html': {'dir': html_path + 'usa.html',\n",
    "                   'img': 'usa.png',\n",
    "                   'img_shape': 'wide'\n",
    "                  },\n",
    "          'country': 'US',\n",
    "          'start_date': '03/01/2020',\n",
    "          'end_date': end_date,\n",
    "          'title': 'USA - COVID-19'\n",
    "         }"
   ]
  },
  {
   "cell_type": "code",
   "execution_count": null,
   "metadata": {},
   "outputs": [],
   "source": [
    "ca = {'reports_path': reports_path,\n",
    "          'html': {'dir': html_path + 'california.html',\n",
    "                   'img': 'california.png',\n",
    "                   'img_shape': 'tall'\n",
    "                  },\n",
    "          'state': 'California',\n",
    "          'start_date': '03/01/2020',\n",
    "          'end_date': end_date,\n",
    "          'title': 'California - COVID-19'\n",
    "         }"
   ]
  },
  {
   "cell_type": "code",
   "execution_count": null,
   "metadata": {},
   "outputs": [],
   "source": [
    "bay = {'reports_path': reports_path,\n",
    "          'html': {'dir': html_path + 'bay_area.html',\n",
    "                   'img': 'bay_area.png',\n",
    "                   'img_shape': 'square'\n",
    "                  },\n",
    "          'query': 'Province_State==\"California\" & Admin2 in [\"Alameda\",\"Santa Clara\",\"Santa Cruz\",\"San Francisco\",\"San Mateo\",\"Marin\",\"Contra Costa\"]',\n",
    "          'start_date': '03/22/2020',\n",
    "          'end_date': end_date,\n",
    "          'title': 'Bay Area - COVID-19'\n",
    "         }"
   ]
  },
  {
   "cell_type": "code",
   "execution_count": null,
   "metadata": {},
   "outputs": [],
   "source": [
    "md = {'reports_path': reports_path,\n",
    "          'html': {'dir': html_path + 'maryland.html',\n",
    "                   'img': 'maryland.png',\n",
    "                   'img_shape': 'wide'\n",
    "                  },\n",
    "          'state': 'Maryland',\n",
    "          'start_date': '03/01/2020',\n",
    "          'end_date': end_date,\n",
    "          'title': 'Maryland - COVID-19'\n",
    "         }"
   ]
  },
  {
   "cell_type": "code",
   "execution_count": null,
   "metadata": {},
   "outputs": [],
   "source": [
    "nj = {'reports_path': reports_path,\n",
    "          'html': {'dir': html_path + 'new_jersey.html',\n",
    "                   'img': 'new_jersey.png',\n",
    "                   'img_shape': 'tall'\n",
    "                  },\n",
    "          'state': 'New Jersey',\n",
    "          'start_date': '03/01/2020',\n",
    "          'end_date': end_date,\n",
    "          'title': 'New Jersey - COVID-19'\n",
    "         }"
   ]
  },
  {
   "cell_type": "code",
   "execution_count": null,
   "metadata": {},
   "outputs": [],
   "source": [
    "ny = {'reports_path': reports_path,\n",
    "          'html': {'dir': html_path + 'new_york.html',\n",
    "                   'img': 'new_york.png',\n",
    "                   'img_shape': 'wide'\n",
    "                  },\n",
    "          'state': 'New York',\n",
    "          'start_date': '03/01/2020',\n",
    "          'end_date': end_date,\n",
    "          'title': 'New York - COVID-19'\n",
    "         }"
   ]
  },
  {
   "cell_type": "code",
   "execution_count": null,
   "metadata": {},
   "outputs": [],
   "source": [
    "wa = {'reports_path': reports_path,\n",
    "          'html': {'dir': html_path + 'washington.html',\n",
    "                   'img': 'washington.png',\n",
    "                   'img_shape': 'wide'\n",
    "                  },\n",
    "          'state': 'Washington',\n",
    "          'start_date': '03/01/2020',\n",
    "          'end_date': end_date,\n",
    "          'title': 'Washington - COVID-19'\n",
    "         }"
   ]
  },
  {
   "cell_type": "code",
   "execution_count": null,
   "metadata": {},
   "outputs": [],
   "source": [
    "ore = {'reports_path': reports_path,\n",
    "          'html': {'dir': html_path + 'oregon.html',\n",
    "                   'img': 'oregon.png',\n",
    "                   'img_shape': 'wide'\n",
    "                  },\n",
    "          'state': 'Oregon',\n",
    "          'start_date': '03/01/2020',\n",
    "          'end_date': end_date,\n",
    "          'title': 'Oregon - COVID-19'\n",
    "         }"
   ]
  },
  {
   "cell_type": "code",
   "execution_count": null,
   "metadata": {},
   "outputs": [],
   "source": [
    "me = {'reports_path': reports_path,\n",
    "          'html': {'dir': html_path + 'maine.html',\n",
    "                   'img': 'maine.png',\n",
    "                   'img_shape': 'tall'\n",
    "                  },\n",
    "          'state': 'Maine',\n",
    "          'start_date': '03/01/2020',\n",
    "          'end_date': end_date,\n",
    "          'title': 'Maine - COVID-19'\n",
    "         }"
   ]
  },
  {
   "cell_type": "code",
   "execution_count": null,
   "metadata": {},
   "outputs": [],
   "source": [
    "va = {'reports_path': reports_path,\n",
    "          'html': {'dir': html_path + 'virginia.html',\n",
    "                   'img': 'virginia.png',\n",
    "                   'img_shape': 'wide'\n",
    "                  },\n",
    "          'state': 'Virginia',\n",
    "          'start_date': '03/01/2020',\n",
    "          'end_date': end_date,\n",
    "          'title': 'Virginia - COVID-19'\n",
    "         }"
   ]
  },
  {
   "cell_type": "code",
   "execution_count": null,
   "metadata": {},
   "outputs": [],
   "source": [
    "mi = {'reports_path': reports_path,\n",
    "          'html': {'dir': html_path + 'michigan.html',\n",
    "                   'img': 'michigan.png',\n",
    "                   'img_shape': 'tall'\n",
    "                  },\n",
    "          'state': 'Michigan',\n",
    "          'start_date': '03/01/2020',\n",
    "          'end_date': end_date,\n",
    "          'title': 'Michigan - COVID-19'\n",
    "         }"
   ]
  },
  {
   "cell_type": "code",
   "execution_count": null,
   "metadata": {},
   "outputs": [],
   "source": [
    "dc = {'reports_path': reports_path,\n",
    "          'html': {'dir': html_path + 'dc.html',\n",
    "                   'img': 'dc.png',\n",
    "                   'img_shape': 'square'\n",
    "                  },\n",
    "          'state': 'District of Columbia',\n",
    "          'start_date': '03/01/2020',\n",
    "          'end_date': end_date,\n",
    "          'title': 'D.C. - COVID-19'\n",
    "         }"
   ]
  },
  {
   "cell_type": "code",
   "execution_count": null,
   "metadata": {},
   "outputs": [],
   "source": [
    "fl = {'reports_path': reports_path,\n",
    "          'html': {'dir': html_path + 'florida.html',\n",
    "                   'img': 'florida.png',\n",
    "                   'img_shape': 'tall'\n",
    "                  },\n",
    "          'state': 'Florida',\n",
    "          'start_date': '03/01/2020',\n",
    "          'end_date': end_date,\n",
    "          'title': 'Florida - COVID-19'\n",
    "         }"
   ]
  },
  {
   "cell_type": "code",
   "execution_count": null,
   "metadata": {},
   "outputs": [],
   "source": [
    "locs = [usa,ca,bay,md,nj,wa,ore,me,va,mi,ny,dc,fl]"
   ]
  },
  {
   "cell_type": "code",
   "execution_count": null,
   "metadata": {},
   "outputs": [],
   "source": [
    "for l in locs:\n",
    "    html.gen_covid_html(l)"
   ]
  }
 ],
 "metadata": {
  "kernelspec": {
   "display_name": "Python 3",
   "language": "python",
   "name": "python3"
  },
  "language_info": {
   "codemirror_mode": {
    "name": "ipython",
    "version": 3
   },
   "file_extension": ".py",
   "mimetype": "text/x-python",
   "name": "python",
   "nbconvert_exporter": "python",
   "pygments_lexer": "ipython3",
   "version": "3.7.6"
  }
 },
 "nbformat": 4,
 "nbformat_minor": 4
}
